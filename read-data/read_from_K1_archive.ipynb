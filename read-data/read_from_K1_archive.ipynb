{
 "cells": [
  {
   "cell_type": "code",
   "execution_count": 38,
   "metadata": {},
   "outputs": [],
   "source": [
    "from gwpy.timeseries import TimeSeries\n",
    "from gwpy.timeseries import TimeSeriesDict"
   ]
  },
  {
   "cell_type": "code",
   "execution_count": 51,
   "metadata": {},
   "outputs": [],
   "source": [
    "# The folder with O3GK C20 strain data and auxiliary channels\n",
    "C20_archive = '/data/KAGRA/proc/C20/O3GK/K1'\n",
    "full_archive = '/data/KAGRA/raw/full'\n",
    "O3GK_start = 1270281600\n",
    "O3GK_end = 1271462432\n",
    "\n",
    "# Channel lists\n",
    "strain_chanslist = [\n",
    "    'K1:DAC-STRAIN_C20',\n",
    "    # 'K1:DAC-DQ_STATE_VECTOR_C20'\n",
    "]\n",
    "rack_chanslist = [ \n",
    "    'K1:PEM-SENSOR_RACK_OMC1_DSUB1_OUT_DQ', \n",
    "    'K1:PEM-SENSOR_RACK_OMC1_DSUB2_OUT_DQ', \n",
    "    'K1:PEM-SENSOR_RACK_OMC1_DSUB3_OUT_DQ'\n",
    "]\n",
    "volt_chanslist = [\n",
    "    'K1:PEM-VOLT_PSL_TABLE_GND_OUT_DQ', \n",
    "    'K1:PEM-VOLT_PSL_BOOTH_FLOAT_OUT_DQ', \n",
    "    'K1:PEM-VOLT_AS_TABLE_GND_OUT_DQ', \n",
    "    'K1:PEM-VOLT_OMC_CHAMBER_GND_OUT_DQ', \n",
    "    'K1:PEM-VOLT_REFL_TABLE_GND_OUT_DQ'\n",
    "]\n",
    "witness_chanslist = []\n",
    "witness_chanslist.extend(rack_chanslist)\n",
    "witness_chanslist.extend(volt_chanslist)\n",
    "\n",
    "full_chanslist = []\n",
    "full_chanslist.extend(strain_chanslist)\n",
    "full_chanslist.extend(rack_chanslist)\n",
    "full_chanslist.extend(volt_chanslist)"
   ]
  },
  {
   "cell_type": "code",
   "execution_count": 54,
   "metadata": {},
   "outputs": [],
   "source": [
    "# Generating the list of gwf files to read\n",
    "def gwf_source(source, start, end, f_duration):    \n",
    "    start_dir = int(start/1e5)\n",
    "    end_dir = int(end/1e5)\n",
    "    gwf_list = []\n",
    "    dir = start_dir\n",
    "    while (dir <= end_dir):\n",
    "        if (start >= int(dir*1e5)):\n",
    "            f_start = int(start_dir*1e5 + f_duration*int((start - start_dir*1e5)/f_duration))\n",
    "        else:\n",
    "            f_start = int(dir*1e5)\n",
    "\n",
    "        if (dir < end_dir):\n",
    "            f_end = int(dir*1e5 + 99968)\n",
    "        else:\n",
    "            f_end = int(end_dir*1e5 + f_duration*int((end - end_dir*1e5)/f_duration))\n",
    "\n",
    "        if (source.find('C20') != -1):\n",
    "            for f_time in range(f_start, f_end + 1, f_duration):\n",
    "                gwf_list.append(f'{source}/{dir}/K-K1_HOFT_C20-{f_time}-{f_duration}.gwf')\n",
    "        elif (source.find('full') != -1):\n",
    "            for f_time in range(f_start, f_end + 1, f_duration):\n",
    "                gwf_list.append(f'{source}/{dir}/K-K1_C-{f_time}-{f_duration}.gwf')\n",
    "        else:\n",
    "            raise NameError('The source does not match \"C20\" or \"full\". Please check again the source.')\n",
    "        dir += 1\n",
    "\n",
    "    return gwf_list\n"
   ]
  },
  {
   "cell_type": "code",
   "execution_count": 58,
   "metadata": {},
   "outputs": [],
   "source": [
    "start = 1270299780\n",
    "end = 1270299780 + 36\n",
    "ts_dict = TimeSeriesDict.fromkeys(full_chanslist)\n",
    "\n",
    "strain = TimeSeries.read(\n",
    "    source=gwf_source(C20_archive, start, end, 32),\n",
    "    channel=strain_chanslist[0],\n",
    "    start=start,\n",
    "    end=end,\n",
    ")\n",
    "ts_dict[strain_chanslist[0]] = strain\n",
    "\n",
    "for ch in witness_chanslist:\n",
    "    ts = TimeSeries.read(\n",
    "        source=gwf_source(full_archive, start, end, 32),\n",
    "        channel=ch,\n",
    "        start=start,\n",
    "        end=end,\n",
    "    )\n",
    "    ts_dict[ch] = ts"
   ]
  },
  {
   "cell_type": "code",
   "execution_count": 72,
   "metadata": {},
   "outputs": [],
   "source": [
    "st = int(ts_dict[full_chanslist[0]].t0.value)\n",
    "du = int(ts_dict[full_chanslist[0]].duration.value)\n",
    "ts_dict.write(f'/home/chia-jui.chou/DeepClean_O3GK/K-K1_DATA-{st}-{du}.gwf')"
   ]
  },
  {
   "cell_type": "code",
   "execution_count": null,
   "metadata": {},
   "outputs": [],
   "source": []
  }
 ],
 "metadata": {
  "kernelspec": {
   "display_name": "igwn-py39",
   "language": "python",
   "name": "python3"
  },
  "language_info": {
   "codemirror_mode": {
    "name": "ipython",
    "version": 3
   },
   "file_extension": ".py",
   "mimetype": "text/x-python",
   "name": "python",
   "nbconvert_exporter": "python",
   "pygments_lexer": "ipython3",
   "version": "3.9.16"
  },
  "orig_nbformat": 4
 },
 "nbformat": 4,
 "nbformat_minor": 2
}
