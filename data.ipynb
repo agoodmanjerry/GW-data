{
 "cells": [
  {
   "cell_type": "code",
   "execution_count": 3,
   "metadata": {},
   "outputs": [],
   "source": [
    "import glob\n",
    "from gwpy.timeseries import TimeSeries\n",
    "from gwpy.timeseries import TimeSeriesDict\n",
    "from gwpy.timeseries import StateVector\n",
    "from lalframe import utils\n",
    "import matplotlib.pyplot as plt\n",
    "%matplotlib inline"
   ]
  },
  {
   "cell_type": "code",
   "execution_count": 21,
   "metadata": {},
   "outputs": [],
   "source": [
    "K1_DIR = \"/mnt/f/kagra-o4a-data\"\n",
    "wit_gwf = glob.glob(f'{K1_DIR}/K1_lldetchar/*.gwf')\n",
    "strain_gwf = glob.glob(f'{K1_DIR}/K1_llhoft/*.gwf')\n",
    "wit_chlist = utils.frtools.get_channels(wit_gwf[0])\n",
    "strain_chlist = utils.frtools.get_channels(strain_gwf[0])"
   ]
  },
  {
   "cell_type": "code",
   "execution_count": 25,
   "metadata": {},
   "outputs": [
    {
     "name": "stdout",
     "output_type": "stream",
     "text": [
      "['K1:CAL-CS_PROC_DARM_STRAIN_DBL_DQ', 'K1:DET-DQ_STATE_VECTOR', 'K1:GRD-IFO_STATE_N', 'K1:PEM-VOLT_AS_TABLE_GND_OUT_DQ', 'K1:PEM-VOLT_IMCREFL_TABLE_GND_OUT_DQ', 'K1:PEM-VOLT_ISS_TABLE_GND_OUT_DQ', 'K1:PEM-VOLT_OMC_CHAMBER_GND_OUT_DQ', 'K1:PEM-VOLT_PSL_TABLE_GND_OUT_DQ', 'K1:PEM-VOLT_REFL_TABLE_GND_OUT_DQ']\n"
     ]
    }
   ],
   "source": [
    "chlist = strain_chlist.copy()\n",
    "chlist.extend(wit_chlist)\n",
    "print(chlist)"
   ]
  },
  {
   "cell_type": "code",
   "execution_count": 27,
   "metadata": {},
   "outputs": [],
   "source": [
    "IFO = 'K1'\n",
    "strain_dir, wit_dir = f'{K1_DIR}/kafka/{IFO}', f'{K1_DIR}/lldetchar/{IFO}'\n",
    "\n",
    "# f_start, f_duration = 1369291863, 4096\n",
    "f_start, f_duration = 1369295959, 4096\n",
    "f_end = f_start + f_duration\n",
    "\n",
    "strain = TimeSeriesDict.read(\n",
    "    f'{K1_DIR}/K1_llhoft/K-K1_llhoft-{f_start}-{f_duration}.gwf',\n",
    "    channels=strain_chlist,\n",
    "    start=f_start,\n",
    "    end=f_end,\n",
    "    nproc=8\n",
    ")\n",
    "\n",
    "witness = TimeSeriesDict.read(\n",
    "    f'{K1_DIR}/K1_lldetchar/K-K1_lldetchar-{f_start}-{f_duration}.gwf',\n",
    "    channels=wit_chlist,\n",
    "    start=f_start,\n",
    "    end=f_end,\n",
    "    nproc=8\n",
    ")"
   ]
  },
  {
   "cell_type": "code",
   "execution_count": null,
   "metadata": {},
   "outputs": [],
   "source": [
    "# Making 1-second gwf files for llhoft\n",
    "i = 0\n",
    "while i < 4096:\n",
    "    # llhoft = strain.copy() \n",
    "    llts = llhoft.crop(f_start + i, f_start + (i+1), copy=True)\n",
    "    # llts.write(f'{STRAIN_DIR}/{IFO}/{IFO[0]}-{IFO}-llhoft-{int(llts[chlist[0]].t0.value)}-{int(llts[chlist[0]].duration.value)}.gwf', format='gwf')\n",
    "    i+=1"
   ]
  },
  {
   "cell_type": "code",
   "execution_count": null,
   "metadata": {},
   "outputs": [],
   "source": [
    "# Making 1-second gwf files for lldetchar\n",
    "i = 0\n",
    "while i < 4096:\n",
    "    # wit = witness.copy()\n",
    "    # llts = wit.crop(f_start + i, f_start + (i+1), copy=True)\n",
    "    # llts.write(f'{WIT_DIR}/{IFO}/{IFO[0]}-{IFO}-lldetchar-{int(llts[chlist[3]].t0.value)}-{int(llts[chlist[3]].duration.value)}.gwf', format='gwf')\n",
    "    i+=1"
   ]
  },
  {
   "cell_type": "code",
   "execution_count": null,
   "metadata": {},
   "outputs": [],
   "source": []
  }
 ],
 "metadata": {
  "kernelspec": {
   "display_name": "igwn-py39",
   "language": "python",
   "name": "python3"
  },
  "language_info": {
   "codemirror_mode": {
    "name": "ipython",
    "version": 3
   },
   "file_extension": ".py",
   "mimetype": "text/x-python",
   "name": "python",
   "nbconvert_exporter": "python",
   "pygments_lexer": "ipython3",
   "version": "3.9.12"
  },
  "orig_nbformat": 4
 },
 "nbformat": 4,
 "nbformat_minor": 2
}
