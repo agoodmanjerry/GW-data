{
 "cells": [
  {
   "cell_type": "code",
   "execution_count": 5,
   "metadata": {},
   "outputs": [],
   "source": [
    "import glob\n",
    "from gwpy.timeseries import TimeSeriesDict\n",
    "from lalframe import utils"
   ]
  },
  {
   "cell_type": "code",
   "execution_count": 10,
   "metadata": {},
   "outputs": [
    {
     "name": "stdout",
     "output_type": "stream",
     "text": [
      "['/home/jerry/kagra-o4a-data/K1_lldetchar/K-K1_lldetchar-1369369687-4096.gwf', '/home/jerry/kagra-o4a-data/K1_lldetchar/K-K1_lldetchar-1369357399-4096.gwf', '/home/jerry/kagra-o4a-data/K1_lldetchar/K-K1_lldetchar-1369353303-4096.gwf', '/home/jerry/kagra-o4a-data/K1_lldetchar/K-K1_lldetchar-1369349207-4096.gwf', '/home/jerry/kagra-o4a-data/K1_lldetchar/K-K1_lldetchar-1369291863-4096.gwf', '/home/jerry/kagra-o4a-data/K1_lldetchar/K-K1_lldetchar-1369332823-4096.gwf', '/home/jerry/kagra-o4a-data/K1_lldetchar/K-K1_lldetchar-1369328727-4096.gwf', '/home/jerry/kagra-o4a-data/K1_lldetchar/K-K1_lldetchar-1369316439-4096.gwf', '/home/jerry/kagra-o4a-data/K1_lldetchar/K-K1_lldetchar-1369312343-4096.gwf', '/home/jerry/kagra-o4a-data/K1_lldetchar/K-K1_lldetchar-1369345111-4096.gwf', '/home/jerry/kagra-o4a-data/K1_lldetchar/K-K1_lldetchar-1369304151-4096.gwf', '/home/jerry/kagra-o4a-data/K1_lldetchar/K-K1_lldetchar-1369341015-4096.gwf', '/home/jerry/kagra-o4a-data/K1_lldetchar/K-K1_lldetchar-1369300055-4096.gwf', '/home/jerry/kagra-o4a-data/K1_lldetchar/K-K1_lldetchar-1369324631-4096.gwf', '/home/jerry/kagra-o4a-data/K1_lldetchar/K-K1_lldetchar-1369361495-4096.gwf', '/home/jerry/kagra-o4a-data/K1_lldetchar/K-K1_lldetchar-1369295959-4096.gwf', '/home/jerry/kagra-o4a-data/K1_lldetchar/K-K1_lldetchar-1369365591-4096.gwf', '/home/jerry/kagra-o4a-data/K1_lldetchar/K-K1_lldetchar-1369320535-4096.gwf', '/home/jerry/kagra-o4a-data/K1_lldetchar/K-K1_lldetchar-1369308247-4096.gwf', '/home/jerry/kagra-o4a-data/K1_lldetchar/K-K1_lldetchar-1369336919-4096.gwf']\n"
     ]
    }
   ],
   "source": [
    "IFO = 'K1'\n",
    "STRAIN_DIR, WIT_DIR = f'/home/jerry/kagra-o4a-data/kafka/{IFO}', f'/home/jerry/kagra-o4a-data/lldetchar/{IFO}'\n",
    "wit_gwf = glob.glob(f'/home/jerry/kagra-o4a-data/{IFO}_lldetchar/*.gwf')\n",
    "strain_gwf = glob.glob(f'/home/jerry/kagra-o4a-data/{IFO}_llhoft/*.gwf')\n",
    "wit_chlist = utils.frtools.get_channels(wit_gwf[0])\n",
    "strain_chlist = utils.frtools.get_channels(strain_gwf[0])\n",
    "\n",
    "chlist = strain_chlist.copy()\n",
    "chlist.extend(wit_chlist)\n",
    "print(wit_gwf)"
   ]
  },
  {
   "cell_type": "code",
   "execution_count": 11,
   "metadata": {},
   "outputs": [],
   "source": [
    "def read_data(source, channels, start, end):\n",
    "    data = TimeSeriesDict.read(\n",
    "        source=source,\n",
    "        channels=channels,\n",
    "        start=start,\n",
    "        end=end,\n",
    "    )\n",
    "    return data\n",
    "\n",
    "def make_ll_gwf(source, channels, start, end, destination, tag):\n",
    "    data = TimeSeriesDict.read(\n",
    "        source=source,\n",
    "        channels=channels,\n",
    "        start=start,\n",
    "        end=end,\n",
    "    )\n",
    "    \n",
    "    duration = end - start\n",
    "    i = 0\n",
    "    while i < duration:\n",
    "        ll = data.copy()\n",
    "        lldata = ll.crop(start + i, start + (i+1), copy=False)\n",
    "        lldata.write(f'{destination}/{IFO[0]}-{IFO}-{tag}-{int(lldata[channels[0]].t0.value)}-{int(lldata[channels[0]].duration.value)}.gwf', format='gwf')\n",
    "        i += 1"
   ]
  },
  {
   "cell_type": "code",
   "execution_count": 12,
   "metadata": {},
   "outputs": [],
   "source": [
    "start, duration = 1369295959, 5\n",
    "end = start + duration\n",
    "\n",
    "destination = '/home/jerry/kagra-o4a-data/llhoft_buffer'\n",
    "tag = 'llhoft'\n",
    "make_ll_gwf(strain_gwf, strain_chlist, start, end, destination, tag)\n",
    "\n",
    "destination = '/home/jerry/kagra-o4a-data/lldetchar_buffer'\n",
    "tag = 'lldetchar'\n",
    "make_ll_gwf(wit_gwf, wit_chlist, start, end, destination, tag)"
   ]
  },
  {
   "cell_type": "code",
   "execution_count": null,
   "metadata": {},
   "outputs": [],
   "source": []
  }
 ],
 "metadata": {
  "kernelspec": {
   "display_name": "igwn-py39",
   "language": "python",
   "name": "python3"
  },
  "language_info": {
   "codemirror_mode": {
    "name": "ipython",
    "version": 3
   },
   "file_extension": ".py",
   "mimetype": "text/x-python",
   "name": "python",
   "nbconvert_exporter": "python",
   "pygments_lexer": "ipython3",
   "version": "3.9.10"
  },
  "orig_nbformat": 4
 },
 "nbformat": 4,
 "nbformat_minor": 2
}
